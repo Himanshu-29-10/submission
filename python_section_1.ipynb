{
 "cells": [
  {
   "cell_type": "markdown",
   "id": "d231e774-4f1a-4c9c-a6d3-1b0b0241cc9d",
   "metadata": {},
   "source": [
    "# Question 1: Reverse List by N Elements"
   ]
  },
  {
   "cell_type": "code",
   "execution_count": 6,
   "id": "47d4dbe2-99db-4da9-a282-47f8b779364d",
   "metadata": {},
   "outputs": [
    {
     "name": "stdout",
     "output_type": "stream",
     "text": [
      "[40, 30, 20, 10, 70, 60, 50]\n"
     ]
    }
   ],
   "source": [
    "def reverse_in_groups(arr, n):\n",
    "    result = []\n",
    "    for i in range(0, len(arr), n):\n",
    "        group = []\n",
    "        for j in range(min(i + n, len(arr)) - 1, i - 1, -1):\n",
    "            group.append(arr[j])\n",
    "        result.extend(group)\n",
    "    return result\n",
    "\n",
    "arr = [10, 20, 30, 40, 50, 60, 70]\n",
    "n = 4\n",
    "print(reverse_in_groups(arr, n))\n"
   ]
  },
  {
   "cell_type": "markdown",
   "id": "701e80cb-83a4-4318-8f87-567ead515c85",
   "metadata": {},
   "source": [
    "# Question 2: Lists & Dictionaries"
   ]
  },
  {
   "cell_type": "code",
   "execution_count": 10,
   "id": "2141e00b-58cc-4596-b679-e25526313454",
   "metadata": {},
   "outputs": [
    {
     "name": "stdout",
     "output_type": "stream",
     "text": [
      "3: ['bat', 'car', 'dog']\n",
      "4: ['bear']\n",
      "5: ['apple']\n",
      "8: ['elephant']\n"
     ]
    }
   ],
   "source": [
    "def group_by_length(strings):\n",
    "    result = {}\n",
    "    for s in strings:\n",
    "        result.setdefault(len(s), []).append(s)\n",
    "    return dict(sorted(result.items()))\n",
    "\n",
    "strings = [\"apple\", \"bat\", \"car\", \"elephant\", \"dog\", \"bear\"]\n",
    "\n",
    "for length, group in group_by_length(strings).items():\n",
    "    print(f\"{length}: {group}\")"
   ]
  },
  {
   "cell_type": "markdown",
   "id": "2f3c29ff-fab9-471f-b93a-d5bd159032ac",
   "metadata": {},
   "source": [
    "# Question 3: Flatten a Nested Dictionary"
   ]
  },
  {
   "cell_type": "code",
   "execution_count": 15,
   "id": "9443b371-4e6c-4ffa-8295-0f10ff62532a",
   "metadata": {},
   "outputs": [
    {
     "name": "stdout",
     "output_type": "stream",
     "text": [
      "{'road.name': 'Highway 1', 'road.length': 350, 'road.sections[0].id': 1, 'road.sections[0].condition.pavement': 'good', 'road.sections[0].condition.traffic': 'moderate'}\n",
      "\n",
      "{\n",
      "road.name: Highway 1\n",
      "road.length: 350\n",
      "road.sections[0].id: 1\n",
      "road.sections[0].condition.pavement: good\n",
      "road.sections[0].condition.traffic: moderate\n",
      "}\n"
     ]
    }
   ],
   "source": [
    "def flatten_dict(d, parent_key=''):\n",
    "    result = {}\n",
    "    for key, value in d.items():\n",
    "        new_key = f\"{parent_key}.{key}\" if parent_key else key\n",
    "        if isinstance(value, dict):\n",
    "            result.update(flatten_dict(value, new_key))\n",
    "        elif isinstance(value, list):\n",
    "            for i, item in enumerate(value):\n",
    "                result.update(flatten_dict({f\"{key}[{i}]\": item}, parent_key))\n",
    "        else:\n",
    "            result[new_key] = value\n",
    "    return result\n",
    "\n",
    "nested_dict = {\n",
    "    \"road\": {\n",
    "        \"name\": \"Highway 1\",\n",
    "        \"length\": 350,\n",
    "        \"sections\": [\n",
    "            {\n",
    "                \"id\": 1,\n",
    "                \"condition\": {\n",
    "                    \"pavement\": \"good\",\n",
    "                    \"traffic\": \"moderate\"\n",
    "                }\n",
    "            }\n",
    "        ]\n",
    "    }\n",
    "}\n",
    "\n",
    "flattened = flatten_dict(nested_dict)\n",
    "print(flattened)\n",
    "\n",
    "print()\n",
    "print(\"{\")\n",
    "for key, value in flattened.items():\n",
    "    print(f\"{key}: {value}\")\n",
    "print(\"}\")"
   ]
  },
  {
   "cell_type": "markdown",
   "id": "5cc80117-6390-468c-8abd-b7d04caaa130",
   "metadata": {},
   "source": [
    "# Question 4: Generate Unique Permutations"
   ]
  },
  {
   "cell_type": "code",
   "execution_count": 17,
   "id": "3f00ae95-8d05-45dd-bfbb-1bb6b59c0b08",
   "metadata": {},
   "outputs": [
    {
     "name": "stdout",
     "output_type": "stream",
     "text": [
      "[1, 2, 1]\n",
      "[2, 1, 1]\n",
      "[1, 1, 2]\n"
     ]
    }
   ],
   "source": [
    "from itertools import permutations\n",
    "\n",
    "def unique_permutations(nums):\n",
    "    return list(map(list, set(permutations(nums))))\n",
    "\n",
    "nums = [1, 1, 2]\n",
    "result = unique_permutations(nums)\n",
    "for p in result:\n",
    "    print(p)"
   ]
  },
  {
   "cell_type": "markdown",
   "id": "2235eb88-4296-49ec-b978-9db622cd2779",
   "metadata": {},
   "source": [
    "# Question 5: Find All Dates in a Text"
   ]
  },
  {
   "cell_type": "code",
   "execution_count": 18,
   "id": "2f092df1-353b-4d73-868b-19a2a76fdf58",
   "metadata": {},
   "outputs": [
    {
     "name": "stdout",
     "output_type": "stream",
     "text": [
      "['23-08-1994', '08/23/1994', '1994.08.23']\n"
     ]
    }
   ],
   "source": [
    "import re\n",
    "\n",
    "def find_all_dates(text):\n",
    "    date_pattern = r'\\b(\\d{2}-\\d{2}-\\d{4}|\\d{2}/\\d{2}/\\d{4}|\\d{4}\\.\\d{2}\\.\\d{2})\\b'\n",
    "    matches = re.findall(date_pattern, text)  # Find all matches in the text\n",
    "    return matches  \n",
    "\n",
    "text = \"I was born on 23-08-1994, my friend on 08/23/1994, and another one on 1994.08.23.\"\n",
    "dates = find_all_dates(text)\n",
    "print(dates)"
   ]
  },
  {
   "cell_type": "markdown",
   "id": "bdb8be30-fe85-4050-a781-846d70703786",
   "metadata": {},
   "source": [
    "# Question 7: Matrix Rotation and Transformation"
   ]
  },
  {
   "cell_type": "code",
   "execution_count": 7,
   "id": "17af59a5-f6b0-49fe-9597-48d04980d14a",
   "metadata": {},
   "outputs": [
    {
     "name": "stdout",
     "output_type": "stream",
     "text": [
      "[22, 19, 16]\n",
      "[23, 20, 17]\n",
      "[24, 21, 18]\n"
     ]
    }
   ],
   "source": [
    "def rotate_and_transform(matrix):\n",
    "    n = len(matrix)\n",
    "\n",
    "    rotated = [[matrix[n - j - 1][i] for j in range(n)] for i in range(n)]\n",
    "\n",
    "    row_sums = [sum(row) for row in rotated]\n",
    "    col_sums = [sum(rotated[i][j] for i in range(n)) for j in range(n)]\n",
    "\n",
    "    result = [[row_sums[i] + col_sums[j] - 2 * rotated[i][j] for j in range(n)] for i in range(n)]\n",
    "\n",
    "    return result\n",
    "\n",
    "matrix = [[1, 2, 3], [4, 5, 6], [7, 8, 9]]\n",
    "result = rotate_and_transform(matrix)\n",
    "\n",
    "for row in result:\n",
    "    print(row)"
   ]
  },
  {
   "cell_type": "markdown",
   "id": "f8563a24-3b6c-4f30-920a-7aae7420c0a2",
   "metadata": {},
   "source": [
    "# Question 8: Time Check"
   ]
  },
  {
   "cell_type": "code",
   "execution_count": 19,
   "id": "7fa60c39-9ca0-48db-aa1e-393c985c4b77",
   "metadata": {},
   "outputs": [
    {
     "data": {
      "text/html": [
       "<div>\n",
       "<style scoped>\n",
       "    .dataframe tbody tr th:only-of-type {\n",
       "        vertical-align: middle;\n",
       "    }\n",
       "\n",
       "    .dataframe tbody tr th {\n",
       "        vertical-align: top;\n",
       "    }\n",
       "\n",
       "    .dataframe thead th {\n",
       "        text-align: right;\n",
       "    }\n",
       "</style>\n",
       "<table border=\"1\" class=\"dataframe\">\n",
       "  <thead>\n",
       "    <tr style=\"text-align: right;\">\n",
       "      <th></th>\n",
       "      <th>id</th>\n",
       "      <th>id_2</th>\n",
       "      <th>is_complete</th>\n",
       "    </tr>\n",
       "  </thead>\n",
       "  <tbody>\n",
       "    <tr>\n",
       "      <th>0</th>\n",
       "      <td>1014000</td>\n",
       "      <td>-1</td>\n",
       "      <td>False</td>\n",
       "    </tr>\n",
       "    <tr>\n",
       "      <th>1</th>\n",
       "      <td>1014002</td>\n",
       "      <td>-1</td>\n",
       "      <td>False</td>\n",
       "    </tr>\n",
       "    <tr>\n",
       "      <th>2</th>\n",
       "      <td>1014003</td>\n",
       "      <td>-1</td>\n",
       "      <td>False</td>\n",
       "    </tr>\n",
       "    <tr>\n",
       "      <th>3</th>\n",
       "      <td>1030000</td>\n",
       "      <td>-1</td>\n",
       "      <td>False</td>\n",
       "    </tr>\n",
       "    <tr>\n",
       "      <th>4</th>\n",
       "      <td>1030000</td>\n",
       "      <td>1030002</td>\n",
       "      <td>False</td>\n",
       "    </tr>\n",
       "    <tr>\n",
       "      <th>...</th>\n",
       "      <td>...</td>\n",
       "      <td>...</td>\n",
       "      <td>...</td>\n",
       "    </tr>\n",
       "    <tr>\n",
       "      <th>9249</th>\n",
       "      <td>1330016</td>\n",
       "      <td>1330006</td>\n",
       "      <td>False</td>\n",
       "    </tr>\n",
       "    <tr>\n",
       "      <th>9250</th>\n",
       "      <td>1330016</td>\n",
       "      <td>1330008</td>\n",
       "      <td>False</td>\n",
       "    </tr>\n",
       "    <tr>\n",
       "      <th>9251</th>\n",
       "      <td>1330016</td>\n",
       "      <td>1330010</td>\n",
       "      <td>False</td>\n",
       "    </tr>\n",
       "    <tr>\n",
       "      <th>9252</th>\n",
       "      <td>1330016</td>\n",
       "      <td>1330012</td>\n",
       "      <td>False</td>\n",
       "    </tr>\n",
       "    <tr>\n",
       "      <th>9253</th>\n",
       "      <td>1330016</td>\n",
       "      <td>1330014</td>\n",
       "      <td>False</td>\n",
       "    </tr>\n",
       "  </tbody>\n",
       "</table>\n",
       "<p>9254 rows × 3 columns</p>\n",
       "</div>"
      ],
      "text/plain": [
       "           id     id_2  is_complete\n",
       "0     1014000       -1        False\n",
       "1     1014002       -1        False\n",
       "2     1014003       -1        False\n",
       "3     1030000       -1        False\n",
       "4     1030000  1030002        False\n",
       "...       ...      ...          ...\n",
       "9249  1330016  1330006        False\n",
       "9250  1330016  1330008        False\n",
       "9251  1330016  1330010        False\n",
       "9252  1330016  1330012        False\n",
       "9253  1330016  1330014        False\n",
       "\n",
       "[9254 rows x 3 columns]"
      ]
     },
     "execution_count": 19,
     "metadata": {},
     "output_type": "execute_result"
    }
   ],
   "source": [
    "import pandas as pd\n",
    "\n",
    "def map_weekday(day):\n",
    "    days = ['Monday', 'Tuesday', 'Wednesday', 'Thursday', 'Friday', 'Saturday', 'Sunday']\n",
    "    return pd.Timestamp('2023-01-01') + pd.Timedelta(days=days.index(day))\n",
    "\n",
    "def check_completeness(df):\n",
    "    df['start_datetime'] = pd.to_datetime(df['startDay'].apply(map_weekday).astype(str) + ' ' + df['startTime'])\n",
    "    df['end_datetime'] = pd.to_datetime(df['endDay'].apply(map_weekday).astype(str) + ' ' + df['endTime'])\n",
    "\n",
    "    results = []\n",
    "\n",
    "    for (id_, id_2), group in df.groupby(['id', 'id_2'], as_index=False):\n",
    "        start = group['start_datetime'].min()\n",
    "        end = group['end_datetime'].max()\n",
    "        is_complete = (end - start).total_seconds() >= 604800  # 7 days in seconds\n",
    "        results.append([id_, id_2, is_complete])\n",
    "\n",
    "    result_df = pd.DataFrame(results, columns=['id', 'id_2', 'is_complete'])\n",
    "    return result_df\n",
    "\n",
    "df = pd.read_csv('dataset-1.csv')\n",
    "result = check_completeness(df)\n",
    "result"
   ]
  }
 ],
 "metadata": {
  "kernelspec": {
   "display_name": "Python 3 (ipykernel)",
   "language": "python",
   "name": "python3"
  },
  "language_info": {
   "codemirror_mode": {
    "name": "ipython",
    "version": 3
   },
   "file_extension": ".py",
   "mimetype": "text/x-python",
   "name": "python",
   "nbconvert_exporter": "python",
   "pygments_lexer": "ipython3",
   "version": "3.12.6"
  }
 },
 "nbformat": 4,
 "nbformat_minor": 5
}
